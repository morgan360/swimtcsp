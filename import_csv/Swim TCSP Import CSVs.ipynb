{
 "cells": [
  {
   "cell_type": "markdown",
   "id": "a4d33a70",
   "metadata": {},
   "source": [
    "# Swim TCSP Import CSVs"
   ]
  },
  {
   "cell_type": "code",
   "execution_count": 4,
   "id": "84c6d0d0",
   "metadata": {},
   "outputs": [
    {
     "name": "stdout",
     "output_type": "stream",
     "text": [
      "Requirement already satisfied: pymysql in /Users/morgan/opt/anaconda3/lib/python3.9/site-packages (1.1.0)\n",
      "Note: you may need to restart the kernel to use updated packages.\n"
     ]
    }
   ],
   "source": [
    "# pip install pymysql"
   ]
  },
  {
   "cell_type": "markdown",
   "id": "9b3ac9b0",
   "metadata": {},
   "source": [
    "## Connection and Test"
   ]
  },
  {
   "cell_type": "code",
   "execution_count": 3,
   "id": "70084f2d",
   "metadata": {
    "ExecuteTime": {
     "start_time": "2023-12-19T09:31:27.716363Z",
     "end_time": "2023-12-19T09:31:27.724089Z"
    }
   },
   "outputs": [],
   "source": [
    "import csv\n",
    "import pymysql\n",
    "\n",
    "def connect_to_tcsp():\n",
    "    connection_details = {\n",
    "        \"host\": 'tcsp.ie',\n",
    "        \"port\": 3306,\n",
    "        \"user\": 't567715',\n",
    "        \"password\": '0bjs8Pz55Q',\n",
    "        \"database\": 't567715_wp_tcsp',\n",
    "        \"charset\": 'utf8mb4',\n",
    "        \"cursorclass\": pymysql.cursors.DictCursor\n",
    "    }\n",
    "    try:\n",
    "        connection = pymysql.connect(**connection_details)\n",
    "        return connection\n",
    "    except pymysql.MySQLError as e:\n",
    "        print(f\"Error connecting to MySQL Database: {e}\")\n",
    "        return None\n",
    "\n"
   ]
  },
  {
   "cell_type": "code",
   "execution_count": 4,
   "id": "a8f07898",
   "metadata": {
    "ExecuteTime": {
     "start_time": "2023-12-19T09:31:31.607845Z",
     "end_time": "2023-12-19T09:31:31.881870Z"
    }
   },
   "outputs": [],
   "source": [
    "def fetch_mor_events(connection):\n",
    "    if connection is None:\n",
    "        return []\n",
    "    try:\n",
    "        with connection.cursor() as cursor:\n",
    "            cursor.execute(\"SELECT id, event FROM mor_events\")\n",
    "            return cursor.fetchall()\n",
    "    except pymysql.MySQLError as e:\n",
    "        print(f\"Error executing query: {e}\")\n",
    "        return []\n",
    "\n",
    "def save_data_to_csv(data, filename):\n",
    "    if data:\n",
    "        with open(filename, 'w', newline='', encoding='utf-8') as f:\n",
    "            writer = csv.DictWriter(f, fieldnames=data[0].keys())\n",
    "            writer.writeheader()\n",
    "            writer.writerows(data)\n",
    "\n",
    "# Main execution\n",
    "try:\n",
    "    conx = connect_to_tcsp()\n",
    "    if conx is not None:\n",
    "        data = fetch_mor_events(conx)\n",
    "        save_data_to_csv(data, 'public_swim_catagories.csv')\n",
    "finally:\n",
    "    if conx:\n",
    "        conx.close()\n"
   ]
  },
  {
   "cell_type": "markdown",
   "source": [
    "## Multiple Files"
   ],
   "metadata": {
    "collapsed": false
   }
  },
  {
   "cell_type": "code",
   "execution_count": 6,
   "id": "b62e7366",
   "metadata": {
    "ExecuteTime": {
     "start_time": "2023-12-19T10:01:01.977402Z",
     "end_time": "2023-12-19T10:01:02.525817Z"
    }
   },
   "outputs": [],
   "source": [
    "import csv\n",
    "import pymysql\n",
    "\n",
    "def fetch_mor_events(connection):\n",
    "    if connection is None:\n",
    "        return []\n",
    "    try:\n",
    "        with connection.cursor() as cursor:\n",
    "            cursor.execute(\"SELECT id, event FROM mor_events\")\n",
    "            return cursor.fetchall()\n",
    "    except pymysql.MySQLError as e:\n",
    "        print(f\"Error executing query: {e}\")\n",
    "        return []\n",
    "\n",
    "def fetch_terms_table(connection):\n",
    "    if connection is None:\n",
    "        return []\n",
    "    try:\n",
    "        with connection.cursor() as cursor:\n",
    "            cursor.execute(\"SELECT start_date, finish_date,  COALESCE(rebook_start, '2000-01-01') AS rebook_start,  \"\n",
    "                           \"COALESCE(booking_switch_date, '2000-01-01') AS booking_switch_date, COALESCE\"\n",
    "                           \"(assesments_complete, '2000-01-01') AS assesments_complete FROM mor_terms\")\n",
    "            return cursor.fetchall()\n",
    "    except pymysql.MySQLError as e:\n",
    "        print(f\"Error executing query: {e}\")\n",
    "        return []\n",
    "\n",
    "def save_data_to_csv(data, filename):\n",
    "    if data:\n",
    "        with open(filename, 'w', newline='', encoding='utf-8') as f:\n",
    "            writer = csv.DictWriter(f, fieldnames=data[0].keys())\n",
    "            writer.writeheader()\n",
    "            writer.writerows(data)\n",
    "\n",
    "# Main execution\n",
    "try:\n",
    "    conx = connect_to_tcsp()  # Assuming this establishes your database connection\n",
    "    if conx is not None:\n",
    "        mor_events_data = fetch_mor_events(conx)\n",
    "        terms_data = fetch_terms_table(conx)\n",
    "\n",
    "        save_data_to_csv(mor_events_data, 'public_swim_categories.csv')\n",
    "        save_data_to_csv(terms_data, 'terms.csv')\n",
    "finally:\n",
    "    if conx:\n",
    "        conx.close()\n"
   ]
  },
  {
   "cell_type": "code",
   "execution_count": null,
   "outputs": [],
   "source": [],
   "metadata": {
    "collapsed": false
   }
  }
 ],
 "metadata": {
  "kernelspec": {
   "display_name": "Python 3 (ipykernel)",
   "language": "python",
   "name": "python3"
  },
  "language_info": {
   "codemirror_mode": {
    "name": "ipython",
    "version": 3
   },
   "file_extension": ".py",
   "mimetype": "text/x-python",
   "name": "python",
   "nbconvert_exporter": "python",
   "pygments_lexer": "ipython3",
   "version": "3.9.12"
  },
  "varInspector": {
   "cols": {
    "lenName": 16,
    "lenType": 16,
    "lenVar": 40
   },
   "kernels_config": {
    "python": {
     "delete_cmd_postfix": "",
     "delete_cmd_prefix": "del ",
     "library": "var_list.py",
     "varRefreshCmd": "print(var_dic_list())"
    },
    "r": {
     "delete_cmd_postfix": ") ",
     "delete_cmd_prefix": "rm(",
     "library": "var_list.r",
     "varRefreshCmd": "cat(var_dic_list()) "
    }
   },
   "types_to_exclude": [
    "module",
    "function",
    "builtin_function_or_method",
    "instance",
    "_Feature"
   ],
   "window_display": false
  }
 },
 "nbformat": 4,
 "nbformat_minor": 5
}
